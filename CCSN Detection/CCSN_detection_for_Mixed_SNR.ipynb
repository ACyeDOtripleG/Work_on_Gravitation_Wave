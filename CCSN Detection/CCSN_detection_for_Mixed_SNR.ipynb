{
 "cells": [
  {
   "cell_type": "markdown",
   "id": "e5837b0f",
   "metadata": {
    "tags": [],
    "toc-hr-collapsed": true
   },
   "source": [
    "# **Imports & Default**"
   ]
  },
  {
   "cell_type": "code",
   "execution_count": null,
   "id": "c17ec009",
   "metadata": {},
   "outputs": [],
   "source": [
    "import os\n",
    "import h5py\n",
    "import torch\n",
    "\n",
    "import numpy as np\n",
    "import matplotlib as mpl\n",
    "import matplotlib.pyplot as plt\n",
    "import torch.nn.functional as F\n",
    "\n",
    "from torch import nn\n",
    "from torchvision import models\n",
    "from tqdm.notebook import tqdm\n",
    "from torchsummary import summary\n",
    "from torch.backends import cudnn\n",
    "from torch.utils.data import Dataset, DataLoader\n",
    "%matplotlib inline"
   ]
  },
  {
   "cell_type": "code",
   "execution_count": null,
   "id": "2344fe62",
   "metadata": {},
   "outputs": [],
   "source": [
    "World = '/dicos_ui_home/acye/'\n",
    "mpl.rcParams['figure.dpi'] = 400\n",
    "mpl.rcParams['axes.grid'] = True\n",
    "mpl.rcParams['axes.axisbelow'] = True\n",
    "mpl.rcParams['figure.facecolor'] = 'white'\n",
    "mpl.rcParams['savefig.facecolor'] = 'white'\n",
    "mpl.rcParams['axes.formatter.useoffset'] = False\n",
    "device = torch.device(\"cuda\" if torch.cuda.is_available() else \"cpu\")\n",
    "print('PyTorch Version', torch.__version__, '\\nCUDA:',torch.cuda.is_available())"
   ]
  },
  {
   "cell_type": "markdown",
   "id": "e45affb8",
   "metadata": {
    "tags": [],
    "toc-hr-collapsed": true
   },
   "source": [
    "# **Data**"
   ]
  },
  {
   "cell_type": "code",
   "execution_count": null,
   "id": "37632335",
   "metadata": {},
   "outputs": [],
   "source": [
    "class MyDataset(Dataset):\n",
    "    def __init__(self, data, target):\n",
    "        self.data = torch.FloatTensor(data.reshape([-1, 1, 8192]))\n",
    "        self.targets = torch.LongTensor(target)\n",
    "    \n",
    "    def __len__(self):\n",
    "        \n",
    "        return len(self.data)\n",
    "        \n",
    "    def __getitem__(self, index):\n",
    "        x = self.data[index]\n",
    "        y = self.targets[index]\n",
    "        \n",
    "        return x, y"
   ]
  },
  {
   "cell_type": "code",
   "execution_count": null,
   "id": "f16103fc",
   "metadata": {},
   "outputs": [],
   "source": [
    "n = 50000\n",
    "with h5py.File(World+'Data/CCSN/CCSN_Pan_SNR_Free.h5', 'r') as hdf:\n",
    "    Strain = np.r_[hdf['Model_NR']['Hp'][:n], hdf['Model_SR']['Hp'][:n], hdf['Model_FR']['Hp'][:n], hdf['Noise']['Strain'][:3*n]]\n",
    "\n",
    "n_v = int(n/8)\n",
    "with h5py.File(World+'Data/CCSN/CCSN_Pan_SNR_Free_Test_Validation.h5', 'r') as hdf_v:\n",
    "    Strain_valid = np.r_[hdf_v['Model_NR']['Hp'][:n_v], hdf_v['Model_SR']['Hp'][:n_v], hdf_v['Model_FR']['Hp'][:n_v], hdf_v['Noise']['Strain'][:3*n_v]]"
   ]
  },
  {
   "cell_type": "code",
   "execution_count": null,
   "id": "372e2279",
   "metadata": {},
   "outputs": [],
   "source": [
    "target = np.r_[np.c_[np.ones(n*3), np.zeros(n*3)], \n",
    "               np.c_[np.zeros(n*3), np.ones(n*3)]]\n",
    "\n",
    "target_valid = np.r_[np.c_[np.ones(n_v*3), np.zeros(n_v*3)], \n",
    "                     np.c_[np.zeros(n_v*3), np.ones(n_v*3)]]"
   ]
  },
  {
   "cell_type": "code",
   "execution_count": null,
   "id": "9080cd04",
   "metadata": {},
   "outputs": [],
   "source": [
    "dataset = MyDataset(Strain, target)\n",
    "dataloader = DataLoader(dataset, batch_size=125, shuffle=True)\n",
    "\n",
    "dataset_valid = MyDataset(Strain_valid, target_valid)\n",
    "dataloader_valid = DataLoader(dataset_valid, batch_size=125, shuffle=True)"
   ]
  },
  {
   "cell_type": "markdown",
   "id": "87a17991",
   "metadata": {
    "tags": [],
    "toc-hr-collapsed": true
   },
   "source": [
    "# **Model**"
   ]
  },
  {
   "cell_type": "code",
   "execution_count": null,
   "id": "cac8b91e",
   "metadata": {},
   "outputs": [],
   "source": [
    "class Torch_AE(nn.Module):\n",
    "    def __init__(self):\n",
    "        super(Torch_AE, self).__init__()\n",
    "        self.Conv1 = nn.Conv1d(1, out_channels = 120, kernel_size = 3, stride = 1, padding = 1)\n",
    "        self.Conv2 = nn.Conv1d(120, out_channels = 80, kernel_size = 3, stride = 1, padding = 1)\n",
    "        self.Conv3 = nn.Conv1d(80, out_channels = 40, kernel_size = 3, stride = 1, padding = 1)\n",
    "        self.Conv4 = nn.Conv1d(40, out_channels = 40, kernel_size = 3, stride = 1, padding = 1)\n",
    "        self.L1 = nn.Linear(20480, 200)\n",
    "        self.L2 = nn.Linear(200, 100)\n",
    "        self.L3 = nn.Linear(100, 2)\n",
    "        \n",
    "    def forward(self, x):\n",
    "        x = F.dropout(nn.MaxPool1d(kernel_size=2)(F.relu(self.Conv1(x))), p = 0)\n",
    "        x = F.dropout(nn.MaxPool1d(kernel_size=2)(F.relu(self.Conv2(x))), p = 0)\n",
    "        x = F.dropout(nn.MaxPool1d(kernel_size=2)(F.relu(self.Conv3(x))), p = 0)\n",
    "        x = F.dropout(nn.MaxPool1d(kernel_size=2)(F.relu(self.Conv4(x))), p = 0)\n",
    "        x = torch.flatten(x, 1)\n",
    "        x = F.sigmoid(self.L1(x))\n",
    "        x = F.sigmoid(self.L2(x))\n",
    "        x = F.softmax(self.L3(x), dim = 1)\n",
    "        return x"
   ]
  },
  {
   "cell_type": "markdown",
   "id": "affc23e3",
   "metadata": {
    "tags": [],
    "toc-hr-collapsed": true
   },
   "source": [
    "# **Training**"
   ]
  },
  {
   "cell_type": "code",
   "execution_count": null,
   "id": "d7447f78",
   "metadata": {},
   "outputs": [],
   "source": [
    "epochs = 10\n",
    "learning_rate = 0.001\n",
    "\n",
    "model = Torch_AE().to(device)\n",
    "\n",
    "criterion = nn.CrossEntropyLoss()\n",
    "\n",
    "\n",
    "opt = torch.optim.Adam(model.parameters(), lr = learning_rate, weight_decay = 1e-5)\n",
    "\n",
    "\n",
    "cost_value = np.array([])\n",
    "cost_valid_value = np.array([])"
   ]
  },
  {
   "cell_type": "code",
   "execution_count": null,
   "id": "833c037b",
   "metadata": {
    "tags": []
   },
   "outputs": [],
   "source": [
    "for i in range(epochs):\n",
    "    for j, (x, y) in enumerate(tqdm(dataloader, desc=f'Epoch {i+1}')):\n",
    "        x = x.to(device)\n",
    "        y = y.to(device)\n",
    "\n",
    "        p_value = model(x)\n",
    "        cost = criterion(p_value, torch.argmax(y, dim = 1))\n",
    "        \n",
    "        opt.zero_grad()\n",
    "        cost.backward()\n",
    "        opt.step()\n",
    "        \n",
    "    print('========')\n",
    "    print(f'Cost{round(cost.item(), 2)}')\n",
    "    print('========', '\\n')\n",
    "\n",
    "    with torch.no_grad():\n",
    "        v_cost = 0\n",
    "        for run, (a, b) in enumerate(dataloader_valid):\n",
    "            a = a.to(device)\n",
    "            b = b.to(device)\n",
    "            \n",
    "            p_value = model(a)\n",
    "            cost_valid = criterion(p_value, torch.argmax(b, dim = 1))\n",
    "            \n",
    "            v_cost += cost_valid.item()\n",
    "            \n",
    "        cost_valid_value = np.append(cost_valid_value, v_cost/(run+1))\n",
    "        \n",
    "        print('===================')\n",
    "        print(f'Validation Cost{round(cost_valid.item(), 2)}')\n",
    "        print('===================', '\\n')\n",
    "    \n",
    "    cost_value = np.append(cost_value, cost.item())\n",
    "print('Train Ends!')"
   ]
  },
  {
   "cell_type": "markdown",
   "id": "6dd3fc98",
   "metadata": {
    "tags": [],
    "toc-hr-collapsed": true
   },
   "source": [
    "# **Plots**"
   ]
  },
  {
   "cell_type": "code",
   "execution_count": null,
   "id": "ea12ee46",
   "metadata": {
    "tags": []
   },
   "outputs": [],
   "source": [
    "total_epoch = np.linspace(1, epochs, epochs)\n",
    "plt.title('Loss value to epoch')\n",
    "plt.plot(total_epoch, cost_value, label = 'Training Set')\n",
    "plt.plot(total_epoch, cost_valid_value, label = 'Validation Set')\n",
    "plt.xlabel('Epoch')\n",
    "plt.ylabel('Loss Value')\n",
    "plt.savefig('Free SNR Sigmoid.png')\n",
    "plt.legend()\n",
    "plt.show()"
   ]
  },
  {
   "cell_type": "code",
   "execution_count": null,
   "id": "7a666103",
   "metadata": {
    "tags": []
   },
   "outputs": [],
   "source": [
    "t_metrix = np.zeros([2,2])\n",
    "metrix = np.zeros([2,2])\n",
    "with torch.no_grad():\n",
    "    for num, (x, y) in enumerate(tqdm(dataloader)):\n",
    "        Real_label = y.numpy()\n",
    "        Prediction = model(x.to(device)).cpu().detach().numpy()\n",
    "        \n",
    "        for i in range(2): \n",
    "            for j in range(2):\n",
    "                if np.sum(Real_label[:,j]) != 0:\n",
    "                    metrix[i, j] =  np.dot(Real_label[:,j], \n",
    "                                           Prediction[:,i]\n",
    "                                          )/np.sum(Real_label[:,j])\n",
    "                if np.sum(Real_label[:,j]) == 0 :\n",
    "                    metrix[i, j] =  np.dot(Real_label[:,j], \n",
    "                                           Prediction[:,i]\n",
    "                                          )/(np.sum(Real_label[:,j])+1e-20)\n",
    "        t_metrix += metrix\n",
    "    metrix = t_metrix/(num+1)\n",
    "    TPR = metrix[0,0]\n",
    "    FAR = metrix[0,1]/(metrix[0,0] + metrix[0,1])\n",
    "    \n",
    "print(f'TPR: {TPR}')\n",
    "print(f'FAR: {FAR}')"
   ]
  },
  {
   "cell_type": "code",
   "execution_count": null,
   "id": "ca081ddd",
   "metadata": {},
   "outputs": [],
   "source": [
    "lab = np.array([['True P', 'False P'], ['False N', 'True N']])\n",
    "color = plt.pcolormesh([metrix[1], metrix[0]], cmap = 'Wistia', vmin=0, vmax=1)\n",
    "for i in range(2):\n",
    "    for j in range(2):\n",
    "        plt.text(i+.5, j+.5, f'{lab[1-j,i]}\\n{round(metrix[1-j,i],3)}', ha = 'center', va = 'center')\n",
    "plt.xticks([.5, 1.5], ['Injection', 'Noise'])\n",
    "plt.yticks([.5, 1.5], ['Noise', 'Injection'], rotation=45)\n",
    "plt.xlabel('Real Value')\n",
    "plt.ylabel('Predict', rotation=0)\n",
    "plt.title(f'Training set with:     TPR: {round(metrix[0, 0], 3)}FAR: {round(FAR, 3)}')\n",
    "plt.colorbar(color)\n",
    "plt.savefig('Training set performance Free SNR Sigmoid.png', bbox_inches = 'tight')\n",
    "plt.show()"
   ]
  },
  {
   "cell_type": "code",
   "execution_count": null,
   "id": "668b57ca",
   "metadata": {},
   "outputs": [],
   "source": [
    "t_metrix = np.zeros([2,2])\n",
    "metrix = np.zeros([2,2])\n",
    "with torch.no_grad():\n",
    "    for num, (x, y) in enumerate(tqdm(dataloader_valid)):\n",
    "        Real_label = y.numpy()\n",
    "        Prediction = model(x.to(device)).cpu().detach().numpy()\n",
    "        \n",
    "        for i in range(2): \n",
    "            for j in range(2):\n",
    "                if np.sum(Real_label[:,j]) != 0:\n",
    "                    metrix[i, j] =  np.dot(Real_label[:,j], \n",
    "                                           Prediction[:,i]\n",
    "                                          )/np.sum(Real_label[:,j])\n",
    "                if np.sum(Real_label[:,j]) == 0 :\n",
    "                    metrix[i, j] =  np.dot(Real_label[:,j], \n",
    "                                           Prediction[:,i]\n",
    "                                          )/(np.sum(Real_label[:,j])+1e-20)\n",
    "        t_metrix += metrix\n",
    "    metrix = t_metrix/(num+1)\n",
    "    TPR = metrix[0,0]\n",
    "    FAR = metrix[0,1]/(metrix[0,0] + metrix[0,1])\n",
    "    \n",
    "print(f'TPR: {TPR}')\n",
    "print(f'FAR: {FAR}')"
   ]
  },
  {
   "cell_type": "code",
   "execution_count": null,
   "id": "ab54da29",
   "metadata": {},
   "outputs": [],
   "source": [
    "lab = np.array([['True P', 'False P'], ['False N', 'True N']])\n",
    "color = plt.pcolormesh([metrix[1], metrix[0]], cmap = 'Wistia', vmin=0, vmax=1)\n",
    "for i in range(2):\n",
    "    for j in range(2):\n",
    "        plt.text(i+.5, j+.5, f'{lab[1-j,i]}\\n{round(metrix[1-j,i],3)}', ha = 'center', va = 'center')\n",
    "plt.xticks([.5, 1.5], ['Injection', 'Noise'])\n",
    "plt.yticks([.5, 1.5], ['Noise', 'Injection'], rotation=45)\n",
    "plt.xlabel('Real Value')\n",
    "plt.ylabel('Predict', rotation=0)\n",
    "plt.title(f'Validation set with:   TPR: {round(metrix[0, 0], 3)} FAR: {round(FAR, 3)}')\n",
    "plt.colorbar(color)\n",
    "plt.savefig('Validation set performance Free SNR Sigmoid.png', bbox_inches = 'tight')\n",
    "plt.show()"
   ]
  },
  {
   "cell_type": "markdown",
   "id": "068122d6",
   "metadata": {
    "tags": [],
    "toc-hr-collapsed": true
   },
   "source": [
    "#  **Xavier**"
   ]
  },
  {
   "cell_type": "code",
   "execution_count": null,
   "id": "e6a94a9a",
   "metadata": {},
   "outputs": [],
   "source": [
    "Mixed_model = model.to('cpu')\n",
    "torch.save(Mixed_model, World+'CCSN/Saved_Model/Mixed_model_Sigmoid.pt')"
   ]
  }
 ],
 "metadata": {
  "kernelspec": {
   "display_name": "Python 3",
   "language": "python",
   "name": "python3"
  },
  "language_info": {
   "codemirror_mode": {
    "name": "ipython",
    "version": 3
   },
   "file_extension": ".py",
   "mimetype": "text/x-python",
   "name": "python",
   "nbconvert_exporter": "python",
   "pygments_lexer": "ipython3",
   "version": "3.6.8"
  }
 },
 "nbformat": 4,
 "nbformat_minor": 5
}
